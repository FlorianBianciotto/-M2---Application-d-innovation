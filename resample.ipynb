{
 "cells": [
  {
   "cell_type": "code",
   "execution_count": 8,
   "metadata": {},
   "outputs": [],
   "source": [
    "import pandas as pd"
   ]
  },
  {
   "cell_type": "code",
   "execution_count": 9,
   "metadata": {},
   "outputs": [],
   "source": [
    "train = pd.read_csv(\"train_clean_stem.csv\", sep=';',index_col=0)"
   ]
  },
  {
   "cell_type": "code",
   "execution_count": 10,
   "metadata": {},
   "outputs": [
    {
     "name": "stdout",
     "output_type": "stream",
     "text": [
      "0\n",
      "100000\n",
      "200000\n",
      "300000\n",
      "400000\n",
      "500000\n",
      "600000\n"
     ]
    }
   ],
   "source": [
    "compteur0_5 = 0 \n",
    "compteur1 = 0\n",
    "compteur1_5 = 0\n",
    "compteur3 = 0\n",
    "compteur3_5 = 0\n",
    "compteur4 = 0\n",
    "compteur5 = 0\n",
    "lst = []\n",
    "for i in range(train.shape[0]):\n",
    "    if i%100000 ==0: print(i)\n",
    "    notei = train.iloc[i]['note']\n",
    "    \n",
    "    if notei == \"0,5\" :\n",
    "        #resampled = resampled.append({'commentaire_stemmed': train.iloc[i]['commentaire_stemmed'], 'note':train.iloc[i]['note']}, ignore_index=True)\n",
    "        lst.append(i)\n",
    "        compteur0_5+=1\n",
    "        if compteur0_5 % 2 ==0:\n",
    "            lst.append(i)\n",
    "    \n",
    "    if notei == \"1,0\":\n",
    "        compteur1+=1\n",
    "        lst.append(i)\n",
    "        if compteur1 %3 !=0:\n",
    "            lst.append(i)\n",
    "\n",
    "    if notei == \"1,5\":\n",
    "            lst.append(i)\n",
    "            lst.append(i)\n",
    "            \n",
    "    if notei == \"2,0\":\n",
    "\n",
    "        lst.append(i)\n",
    "    if notei==\"2,5\":\n",
    "        lst.append(i)\n",
    "    if notei == \"4,5\":\n",
    "        lst.append(i)\n",
    "    if notei==\"5,0\":\n",
    "        compteur5+=1\n",
    "        if compteur5 %10 !=0:\n",
    "            lst.append(i)\n",
    "    if notei == \"3,0\":\n",
    "        compteur3+=1\n",
    "        if compteur3 % 3 !=0:\n",
    "            #resampled = resampled.append({'commentaire_stemmed': train.iloc[i]['commentaire_stemmed'], 'note':train.iloc[i]['note']}, ignore_index=True)\n",
    "            lst.append(i)\n",
    "    if notei == \"3,5\":\n",
    "        compteur3_5+=1\n",
    "        if compteur3_5 % 3 !=0:\n",
    "            #resampled = resampled.append({'commentaire_stemmed': train.iloc[i]['commentaire_stemmed'], 'note':train.iloc[i]['note']}, ignore_index=True)\n",
    "            lst.append(i)\n",
    "    if notei == \"4,0\":\n",
    "        compteur4+=1\n",
    "        if compteur4 % 2 ==0:\n",
    "            #resampled = resampled.append({'commentaire_stemmed': train.iloc[i]['commentaire_stemmed'], 'note':train.iloc[i]['note']}, ignore_index=True)\n",
    "            lst.append(i)\n",
    "    \n",
    "    \n"
   ]
  },
  {
   "cell_type": "code",
   "execution_count": 11,
   "metadata": {},
   "outputs": [
    {
     "name": "stdout",
     "output_type": "stream",
     "text": [
      "[665930, 665931, 665932, 665933, 665933, 665934, 665935, 665937, 665938, 665939, 665940, 665940, 665941, 665942, 665943, 665944, 665944, 665945, 665947, 665948]\n",
      "0\n",
      "10000\n",
      "20000\n",
      "30000\n",
      "40000\n",
      "50000\n",
      "60000\n",
      "70000\n",
      "80000\n",
      "90000\n",
      "100000\n",
      "110000\n",
      "120000\n",
      "130000\n",
      "140000\n",
      "150000\n",
      "160000\n",
      "170000\n",
      "180000\n",
      "190000\n",
      "200000\n",
      "210000\n",
      "220000\n",
      "230000\n",
      "240000\n",
      "250000\n",
      "260000\n",
      "270000\n",
      "280000\n",
      "290000\n",
      "300000\n",
      "310000\n",
      "320000\n",
      "330000\n",
      "340000\n",
      "350000\n",
      "360000\n",
      "370000\n",
      "380000\n",
      "390000\n",
      "400000\n",
      "410000\n",
      "420000\n",
      "430000\n",
      "440000\n",
      "450000\n",
      "460000\n",
      "470000\n",
      "480000\n",
      "490000\n",
      "500000\n",
      "510000\n",
      "520000\n",
      "530000\n",
      "540000\n",
      "550000\n",
      "560000\n",
      "570000\n",
      "580000\n",
      "590000\n"
     ]
    }
   ],
   "source": [
    "import io\n",
    "encoding = 'utf-8'\n",
    "print(lst[-20:])\n",
    "\n",
    "with open(\"train_clean_stem_eq.csv\", 'w+',encoding=encoding) as file:\n",
    "    file.write('index;note;commentaire_stemmed\\n')\n",
    "    for i in range(len(lst)):\n",
    "        if i %10000==0:\n",
    "            print(i)\n",
    "        file.write(str(i)+\";\"+train.iloc[lst[i]]['note']+\";\"+train.iloc[lst[i]]['commentaire_stemmed']+\"\\n\")\n"
   ]
  },
  {
   "cell_type": "code",
   "execution_count": 13,
   "metadata": {},
   "outputs": [
    {
     "name": "stdout",
     "output_type": "stream",
     "text": [
      "5,0    68309\n",
      "3,5    64962\n",
      "4,5    64295\n",
      "3,0    62735\n",
      "4,0    62327\n",
      "2,5    58719\n",
      "0,5    57553\n",
      "2,0    55285\n",
      "1,5    53898\n",
      "1,0    50394\n",
      "Name: note, dtype: int64\n",
      "4,0    124654\n",
      "3,5     97443\n",
      "3,0     94102\n",
      "5,0     75898\n",
      "4,5     64295\n",
      "2,5     58719\n",
      "2,0     55285\n",
      "0,5     38369\n",
      "1,0     30236\n",
      "1,5     26949\n",
      "Name: note, dtype: int64\n",
      "[57553, 50394, 53898, 55285, 58719, 62735, 64962, 62327, 64295, 68309]\n",
      "[38369, 30236, 26949, 55285, 58719, 94102, 97443, 124654, 64295, 75898]\n"
     ]
    },
    {
     "data": {
      "image/png": "[encoded data removed]",
      "text/plain": [
       "<Figure size 432x288 with 1 Axes>"
      ]
     },
     "metadata": {
      "needs_background": "light"
     },
     "output_type": "display_data"
    }
   ],
   "source": [
    "import numpy as np\n",
    "import matplotlib\n",
    "import matplotlib.pyplot as plt\n",
    "\n",
    "traineq = pd.read_csv(\"train_clean_stem_eq.csv\", sep=';',index_col=0)\n",
    "lst_eq = traineq['note'].value_counts()\n",
    "lst_tr = train['note'].value_counts()\n",
    "print(lst_eq)\n",
    "print(lst_tr)\n",
    "labels = [\"0,5\",\"1,0\",\"1,5\",\"2,0\",\"2,5\",\"3,0\",\"3,5\",\"4,0\",\"4,5\",\"5,0\"]\n",
    "y_eq = []\n",
    "y_tr = []\n",
    "for i in labels:\n",
    "    y_eq.append(lst_eq[i])\n",
    "    y_tr.append(lst_tr[i])\n",
    "print(y_eq)\n",
    "print(y_tr)\n",
    "\n",
    "\n",
    "x = np.arange(len(labels))  # the label locations\n",
    "width = 0.35  # the width of the bars\n",
    "\n",
    "fig, ax = plt.subplots()\n",
    "rects1 = ax.bar(x - width/2, y_eq, width,color=\"pink\", label='Equilibré')\n",
    "rects2 = ax.bar(x + width/2, y_tr, width,color=\"green\", label='Non équilibré')\n",
    "\n",
    "# Add some text for labels, title and custom x-axis tick labels, etc.\n",
    "ax.set_ylabel('Fréquence')\n",
    "ax.set_xlabel('Classe')\n",
    "ax.set_title('Fréquence pour les 2 jeux de données')\n",
    "ax.set_xticks(x)\n",
    "ax.set_xticklabels(labels)\n",
    "ax.legend()\n",
    "\n",
    "fig.tight_layout()\n",
    "\n",
    "#plt.show()\n",
    "plt.savefig(\"wesh.png\",dpi=200)"
   ]
  },
  {
   "cell_type": "code",
   "execution_count": null,
   "metadata": {},
   "outputs": [],
   "source": []
  }
 ],
 "metadata": {
  "kernelspec": {
   "display_name": "Python 3",
   "language": "python",
   "name": "python3"
  },
  "language_info": {
   "codemirror_mode": {
    "name": "ipython",
    "version": 3
   },
   "file_extension": ".py",
   "mimetype": "text/x-python",
   "name": "python",
   "nbconvert_exporter": "python",
   "pygments_lexer": "ipython3",
   "version": "3.8.3"
  }
 },
 "nbformat": 4,
 "nbformat_minor": 4
}
