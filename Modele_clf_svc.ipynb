{
 "cells": [
  {
   "cell_type": "code",
   "execution_count": 1,
   "metadata": {},
   "outputs": [],
   "source": [
    "import nltk\n",
    "from xml.dom import minidom\n",
    "import pandas as pd\n",
    "import numpy as np\n",
    "import string\n",
    "import re\n",
    "from sklearn.feature_extraction.text import CountVectorizer\n",
    "from sklearn.feature_extraction.text import TfidfVectorizer\n",
    "import unicodedata\n",
    "from sklearn.ensemble import RandomForestClassifier\n",
    "from sklearn.model_selection import GridSearchCV\n",
    "\n",
    "from sklearn import svm\n",
    "from sklearn.decomposition import TruncatedSVD\n",
    "from sklearn.svm import LinearSVC\n",
    "from sklearn.model_selection import train_test_split\n",
    "from sklearn.svm import SVR\n",
    "from sklearn.tree import DecisionTreeClassifier\n",
    "from sklearn.metrics import accuracy_score\n",
    "\n",
    "import pickle\n",
    "\n",
    "from gensim.models import Word2Vec\n",
    "import time"
   ]
  },
  {
   "cell_type": "code",
   "execution_count": null,
   "metadata": {},
   "outputs": [],
   "source": [
    "#Load wor2vec of train\n",
    "train_word2vec_filename = 'word2vec/' + 'train_review_word2vec.csv'\n",
    "train_word2vec_df = pd.read_csv(train_word2vec_filename)"
   ]
  },
  {
   "cell_type": "code",
   "execution_count": null,
   "metadata": {},
   "outputs": [],
   "source": [
    "# Train TreeClassifier\n",
    "clf_word2vec = DecisionTreeClassifier()\n",
    "start_time = time.time()\n",
    "clf_word2vec.fit(train_word2vec_df, train['note'])\n",
    "print(\"Time taken to fit the model with word2vec vectors: \" + str(time.time() - start_time))\n",
    "clf_word2vec.score(train_word2vec_df,train['note'])"
   ]
  },
  {
   "cell_type": "code",
   "execution_count": null,
   "metadata": {},
   "outputs": [],
   "source": [
    "#Train SVC\n",
    "train_word2vec_df = pd.read_csv(train_word2vec_filename)\n",
    "svc_word2vec = LinearSVC()\n",
    "svc_word2vec.fit(train_word2vec_df, train['note'])\n",
    "svc_word2vec.score(train_word2vec_df,train['note'])"
   ]
  },
  {
   "cell_type": "code",
   "execution_count": null,
   "metadata": {},
   "outputs": [],
   "source": [
    "#save clf model\n",
    "with open('model/clf_word2vec.pickel', 'wb') as handle:\n",
    "    pickle.dump(clf_word2vec, handle, protocol=pickle.HIGHEST_PROTOCOL)"
   ]
  },
  {
   "cell_type": "code",
   "execution_count": null,
   "metadata": {},
   "outputs": [],
   "source": [
    "#save svc model\n",
    "with open('model/svc_word2vec.pickel', 'wb') as handle:\n",
    "    pickle.dump(svc_word2vec, handle, protocol=pickle.HIGHEST_PROTOCOL)"
   ]
  },
  {
   "cell_type": "code",
   "execution_count": 2,
   "metadata": {},
   "outputs": [],
   "source": [
    "#load svc model\n",
    "with open('model/svc_word2vec.pickel', 'rb') as handle:\n",
    "    svc_word2vec = pickle.load(handle)"
   ]
  },
  {
   "cell_type": "code",
   "execution_count": null,
   "metadata": {},
   "outputs": [],
   "source": [
    "# Load word2vec of dev\n",
    "dev_word2vec_filename = 'word2vec/' + 'dev_review_word2vec.csv'\n",
    "dev_word2vec_df = pd.read_csv(dev_word2vec_filename)"
   ]
  },
  {
   "cell_type": "code",
   "execution_count": null,
   "metadata": {},
   "outputs": [],
   "source": [
    "#Predict with clf on dev\n",
    "dev_predictions_word2vec = clf_word2vec.predict(dev_word2vec_df)\n",
    "accuracy_score(dev['note'],dev_predictions_word2vec)"
   ]
  },
  {
   "cell_type": "code",
   "execution_count": null,
   "metadata": {},
   "outputs": [],
   "source": [
    "#Predict with svc on dev\n",
    "dev_predictions_word2vec = svc_word2vec.predict(dev_word2vec_df)\n",
    "accuracy_score(dev['note'],dev_predictions_word2vec)"
   ]
  },
  {
   "cell_type": "code",
   "execution_count": 3,
   "metadata": {},
   "outputs": [],
   "source": [
    "# Load word2vec of test\n",
    "test_word2vec_filename = 'word2vec/' + 'test_review_word2vec.csv'\n",
    "test_word2vec_df = pd.read_csv(test_word2vec_filename)"
   ]
  },
  {
   "cell_type": "code",
   "execution_count": 4,
   "metadata": {},
   "outputs": [],
   "source": [
    "#Predict with svc on test\n",
    "test_predictions_word2vec = svc_word2vec.predict(test_word2vec_df)"
   ]
  },
  {
   "cell_type": "code",
   "execution_count": null,
   "metadata": {},
   "outputs": [],
   "source": [
    "#Save test prediction\n",
    "f = open(\"result/results_svc_word2vec.txt\", \"a\")\n",
    "for i in range(len(test_predictions_word2vec)):\n",
    "    f.write(test.iloc[i]['review_id'] + \" \" + str(test_predictions_word2vec[i]) + \"\\n\")\n",
    "f.close()"
   ]
  },
  {
   "cell_type": "code",
   "execution_count": null,
   "metadata": {},
   "outputs": [],
   "source": []
  }
 ],
 "metadata": {
  "kernelspec": {
   "display_name": "Python 3",
   "language": "python",
   "name": "python3"
  },
  "language_info": {
   "codemirror_mode": {
    "name": "ipython",
    "version": 3
   },
   "file_extension": ".py",
   "mimetype": "text/x-python",
   "name": "python",
   "nbconvert_exporter": "python",
   "pygments_lexer": "ipython3",
   "version": "3.8.3"
  }
 },
 "nbformat": 4,
 "nbformat_minor": 4
}
